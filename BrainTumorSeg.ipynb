{
  "nbformat": 4,
  "nbformat_minor": 0,
  "metadata": {
    "colab": {
      "name": "BrainTumorSeg.ipynb",
      "version": "0.3.2",
      "provenance": [],
      "collapsed_sections": [],
      "toc_visible": true,
      "include_colab_link": true
    },
    "kernelspec": {
      "name": "python3",
      "display_name": "Python 3"
    },
    "accelerator": "GPU"
  },
  "cells": [
    {
      "cell_type": "markdown",
      "metadata": {
        "id": "view-in-github",
        "colab_type": "text"
      },
      "source": [
        "<a href=\"https://colab.research.google.com/github/shivg7706/BrainTumorSegmentation/blob/master/BrainTumorSeg.ipynb\" target=\"_parent\"><img src=\"https://colab.research.google.com/assets/colab-badge.svg\" alt=\"Open In Colab\"/></a>"
      ]
    },
    {
      "cell_type": "code",
      "metadata": {
        "id": "Qpg2SrOUbUlg",
        "colab_type": "code",
        "colab": {}
      },
      "source": [
        "!cp ./drive/My\\ Drive/seg_data.zip ./"
      ],
      "execution_count": 0,
      "outputs": []
    },
    {
      "cell_type": "code",
      "metadata": {
        "id": "rPf1OMLfU99R",
        "colab_type": "code",
        "colab": {}
      },
      "source": [
        "from google.colab import drive\n",
        "drive.mount('/content/drive')"
      ],
      "execution_count": 0,
      "outputs": []
    },
    {
      "cell_type": "code",
      "metadata": {
        "id": "K3hx8H6TzgCF",
        "colab_type": "code",
        "colab": {}
      },
      "source": [
        "!unzip seg_data.zip\n",
        "!rm -rf seg_data.zip"
      ],
      "execution_count": 0,
      "outputs": []
    },
    {
      "cell_type": "code",
      "metadata": {
        "id": "dThkkln_bcSk",
        "colab_type": "code",
        "colab": {}
      },
      "source": [
        "import requests\n",
        "from tqdm import tqdm_notebook as tqdm\n",
        "import os\n",
        "import argparse\n",
        "\n",
        "\n",
        "\n",
        "def download_file(url, path):\n",
        "\n",
        "    if check_if_file_exits(path):\n",
        "        print(f'Already existing file {path}')\n",
        "        return\n",
        "\n",
        "    # Deleting the partial downloaded file.\n",
        "    if os.path.isfile(path):\n",
        "        print(f'Deleted existing partial file {path}')\n",
        "        os.remove(path)\n",
        "\n",
        "    response = requests.get(url, stream=True)\n",
        "    handle = open(path, \"wb\")\n",
        "    with open(path, \"wb\") as handle:\n",
        "        chunk_size = 1024\n",
        "        total_size = round(int(response.headers['Content-Length']), 3)\n",
        "        pbar = tqdm(unit=\"B\", total=total_size)\n",
        "        for chunk in response.iter_content(chunk_size=chunk_size):\n",
        "            if chunk:  # filter out keep-alive new chunks\n",
        "                handle.write(chunk)\n",
        "                pbar.update(len(chunk))\n",
        "\n",
        "\n",
        "    extension = path[-3:]\n",
        "    os.rename(path, path[:-4]+'_done.'+extension)\n",
        "\n",
        "\n",
        "def make_folder(target_folder):\n",
        "\n",
        "    if not (os.path.isdir(target_folder)):\n",
        "        print(f'Creating {target_folder} folder')\n",
        "        os.mkdir(target_folder)\n",
        "\n",
        "\n",
        "def main():\n",
        "\n",
        "    dataset_urls = ['https://ndownloader.figshare.com/files/3381290',\n",
        "                    'https://ndownloader.figshare.com/files/3381296',\n",
        "                    'https://ndownloader.figshare.com/files/3381293',\n",
        "                    'https://ndownloader.figshare.com/files/3381302']\n",
        "\n",
        "    dataset_readme = 'https://ndownloader.figshare.com/files/7953679'\n",
        "\n",
        "    target_folder = 'dataset'\n",
        "    dataset_part = 1\n",
        "    dataset_file_name = f'brain_tumor_dataset_part_'\n",
        "\n",
        "    make_folder(target_folder)\n",
        "\n",
        "    print('Downloading dataset README.txt\\n')\n",
        "    download_file(dataset_readme, os.path.join(target_folder, 'README.TXT'))\n",
        "\n",
        "    print('Starting download process\\n')\n",
        "    for url in dataset_urls:\n",
        "        try:\n",
        "            path = os.path.join(\n",
        "                target_folder, f'{dataset_file_name}{dataset_part}.zip')\n",
        "            print(f'\\t\\tDownloading :  {path}')\n",
        "            download_file(url, path)\n",
        "            dataset_part += 1\n",
        "\n",
        "\n",
        "\n",
        "main()"
      ],
      "execution_count": 0,
      "outputs": []
    },
    {
      "cell_type": "code",
      "metadata": {
        "id": "onDxLi66LO43",
        "colab_type": "code",
        "colab": {}
      },
      "source": [
        ""
      ],
      "execution_count": 0,
      "outputs": []
    },
    {
      "cell_type": "markdown",
      "metadata": {
        "id": "tdAI4-_jVELG",
        "colab_type": "text"
      },
      "source": [
        "## Converting Data from `.mat` files into images"
      ]
    },
    {
      "cell_type": "code",
      "metadata": {
        "id": "wwJAUqwdOOBb",
        "colab_type": "code",
        "colab": {}
      },
      "source": [
        "!unzip seg_dataset.zip"
      ],
      "execution_count": 0,
      "outputs": []
    },
    {
      "cell_type": "code",
      "metadata": {
        "id": "rIsmpTfNOeDP",
        "colab_type": "code",
        "colab": {}
      },
      "source": [
        "import h5py\n",
        "import numpy as np\n"
      ],
      "execution_count": 0,
      "outputs": []
    },
    {
      "cell_type": "code",
      "metadata": {
        "id": "5c0-ry_YQbSO",
        "colab_type": "code",
        "colab": {}
      },
      "source": [
        "mapping = {\n",
        "    1: 'meningioma',\n",
        "    2: 'glioma',\n",
        "    3: 'pituitary'\n",
        "}"
      ],
      "execution_count": 0,
      "outputs": []
    },
    {
      "cell_type": "code",
      "metadata": {
        "id": "g-PSb73Zajxi",
        "colab_type": "code",
        "colab": {}
      },
      "source": [
        "def save_it(data):\n",
        "    \n",
        "    mpimg.imsave('./tumorImage/{}_tumor_{}.png'.format(data['count'], data['label']), data['image'], cmap='gray', format='png')\n",
        "    mpimg.imsave('./maskImage/{}_mask_{}.png'.format(data['count'], data['label']), data['mask'], cmap='gray', format='png')\n",
        "    "
      ],
      "execution_count": 0,
      "outputs": []
    },
    {
      "cell_type": "code",
      "metadata": {
        "id": "G5iyG4psRCu7",
        "colab_type": "code",
        "colab": {}
      },
      "source": [
        "import matplotlib.image as mpimg\n",
        "\n",
        "for file in tqdm(os.listdir('./dataset')):\n",
        "    f = h5py.File('./dataset/{}'.format(file))\n",
        "    data = dict()\n",
        "    data['count'] = file[:-4]\n",
        "    data['image'] = np.array(f.get('cjdata/image'))\n",
        "    data['mask'] = np.array(f.get('cjdata/tumorMask'))\n",
        "    data['label'] = mapping[np.array(f.get('cjdata/label'))[0, 0]]\n",
        "\n",
        "    save_it(data)\n",
        "        \n",
        "        "
      ],
      "execution_count": 0,
      "outputs": []
    },
    {
      "cell_type": "code",
      "metadata": {
        "id": "d6cSnnTHjYCG",
        "colab_type": "code",
        "colab": {}
      },
      "source": [
        "import os\n",
        "for i in range(3001, 3065):\n",
        "    os.rename('./tumor/{}.png'.format(i), '../test_tumor/{}.png'.format(i))"
      ],
      "execution_count": 0,
      "outputs": []
    },
    {
      "cell_type": "code",
      "metadata": {
        "id": "3IgB8O2pWRlv",
        "colab_type": "code",
        "colab": {}
      },
      "source": [
        "!mv ../test/ ../test_mask"
      ],
      "execution_count": 0,
      "outputs": []
    },
    {
      "cell_type": "code",
      "metadata": {
        "id": "1Bsi0aMqkaL6",
        "colab_type": "code",
        "colab": {}
      },
      "source": [
        "for file in os.listdir('segmentation_dataset/maskImage/'):\n",
        "    if not os.path.exists('segmentation_dataset/maskImage/mask'):\n",
        "        os.mkdir('segmentation_dataset/maskImage/mask')\n",
        "    os.rename('segmentation_dataset/maskImage/{}'.format(file), 'segmentation_dataset/maskImage/mask/{}'.format(file))"
      ],
      "execution_count": 0,
      "outputs": []
    },
    {
      "cell_type": "code",
      "metadata": {
        "id": "2dZWcH2Dkab0",
        "colab_type": "code",
        "colab": {}
      },
      "source": [
        "from keras.preprocessing.image import ImageDataGenerator\n",
        "\n",
        "data_gen = ImageDataGenerator(rescale=1./255, featurewise_center=True,\n",
        "                    featurewise_std_normalization=True,\n",
        "                    rotation_range=90.,\n",
        "                    width_shift_range=0.1,\n",
        "                    height_shift_range=0.1,\n",
        "                    zoom_range=0.2)"
      ],
      "execution_count": 0,
      "outputs": []
    },
    {
      "cell_type": "code",
      "metadata": {
        "id": "6DT-Rc0H2YwL",
        "colab_type": "code",
        "colab": {}
      },
      "source": [
        "def combine(img_gen, mask_gen):\n",
        "    while True:\n",
        "        yield(img_gen.next(), mask_gen.next())"
      ],
      "execution_count": 0,
      "outputs": []
    },
    {
      "cell_type": "code",
      "metadata": {
        "id": "BctKQ_pE7_U_",
        "colab_type": "code",
        "colab": {}
      },
      "source": [
        "seed = 7706\n",
        "\n",
        "\n",
        "\n",
        "img_gen = data_gen.flow_from_directory('segmentation_dataset/tumorImage/', target_size=(512, 512), batch_size=2,\n",
        "                                       class_mode=None, seed=seed, color_mode='grayscale')\n",
        "mask_gen = data_gen.flow_from_directory('segmentation_dataset/maskImage/', target_size=(512, 512), batch_size=2,\n",
        "                                       class_mode=None, seed=seed, color_mode='grayscale')\n",
        "\n",
        "train_gen = combine(img_gen, mask_gen)"
      ],
      "execution_count": 0,
      "outputs": []
    },
    {
      "cell_type": "code",
      "metadata": {
        "id": "mTML93ii7_EM",
        "colab_type": "code",
        "colab": {}
      },
      "source": [
        "cd /content/"
      ],
      "execution_count": 0,
      "outputs": []
    },
    {
      "cell_type": "code",
      "metadata": {
        "id": "1We8RlQHZBVr",
        "colab_type": "code",
        "colab": {}
      },
      "source": [
        "from keras.layers.convolutional import Conv2D, ZeroPadding2D, Conv2DTranspose\n",
        "from keras.layers.pooling import MaxPool2D, AvgPool2D, GlobalAveragePooling2D\n",
        "from keras.layers import Dense, Flatten, Input, BatchNormalization, Dropout, Activation, Concatenate\n",
        "from keras.models import Model, Sequential\n",
        "from keras.callbacks import ModelCheckpoint, ReduceLROnPlateau\n",
        "import keras.backend as K\n",
        "from keras.optimizers import Adam\n",
        "from keras.utils import plot_model"
      ],
      "execution_count": 0,
      "outputs": []
    },
    {
      "cell_type": "code",
      "metadata": {
        "id": "EJ6oM6IUplOU",
        "colab_type": "code",
        "colab": {}
      },
      "source": [
        "def get_conv_block(input, filter):\n",
        "    \n",
        "    x = input\n",
        "    \n",
        "    for i in range(2):\n",
        "        x = Conv2D(filter, 3, padding='same')(x)\n",
        "        x = BatchNormalization()(x)\n",
        "        x = Activation('relu')(x)\n",
        "        \n",
        "    return x"
      ],
      "execution_count": 0,
      "outputs": []
    },
    {
      "cell_type": "code",
      "metadata": {
        "id": "uZNDVnSfmLi6",
        "colab_type": "code",
        "colab": {}
      },
      "source": [
        "def unet():\n",
        "    \n",
        "    inputs = Input((512, 512, 1))\n",
        "    \n",
        "    # Encoder\n",
        "    block1 = get_conv_block(inputs, 64)\n",
        "    x = MaxPool2D(2)(block1)\n",
        "    \n",
        "    block2 = get_conv_block(x, 128)\n",
        "    x = MaxPool2D(2)(block2)\n",
        "    \n",
        "    block3 = get_conv_block(x, 256)\n",
        "    x = MaxPool2D(2)(block3)\n",
        "    \n",
        "    block4 = get_conv_block(x, 512)\n",
        "    \n",
        "    # Middle part\n",
        "    \n",
        "    x = MaxPool2D(2)(block4)\n",
        "    x = get_conv_block(x, 1024)\n",
        "    \n",
        "    # Decoder\n",
        "    \n",
        "    x = Conv2DTranspose(512, kernel_size=2, strides=2)(x)\n",
        "    x = Concatenate()([block4, x])\n",
        "    x = get_conv_block(x, 512)\n",
        "    \n",
        "    x = Conv2DTranspose(256, kernel_size=2, strides=2)(x)\n",
        "    x = Concatenate()([block3, x])\n",
        "    x = get_conv_block(x, 256)\n",
        "    \n",
        "    x = Conv2DTranspose(128, kernel_size=2, strides=2)(x)\n",
        "    x = Concatenate()([block2, x])\n",
        "    x = get_conv_block(x, 128)\n",
        "    \n",
        "    x = Conv2DTranspose(64, kernel_size=2, strides=2)(x)\n",
        "    x = Concatenate()([block1, x])\n",
        "    x = get_conv_block(x, 64)\n",
        "    \n",
        "    x = Conv2D(1, 1)(x)\n",
        "    outputs = Activation('sigmoid')(x)\n",
        "    \n",
        "    model = Model(inputs, outputs)\n",
        "    model.compile(optimizer='adam', loss=\"binary_crossentropy\", metrics=[\"accuracy\", iou_loss_core])\n",
        "    \n",
        "    return model"
      ],
      "execution_count": 0,
      "outputs": []
    },
    {
      "cell_type": "code",
      "metadata": {
        "id": "Hpiw6D_9twa-",
        "colab_type": "code",
        "outputId": "d526acf8-be87-4401-e505-ae272c419d35",
        "colab": {
          "base_uri": "https://localhost:8080/",
          "height": 1000
        }
      },
      "source": [
        "model = unet()\n",
        "model.summary()"
      ],
      "execution_count": 161,
      "outputs": [
        {
          "output_type": "stream",
          "text": [
            "__________________________________________________________________________________________________\n",
            "Layer (type)                    Output Shape         Param #     Connected to                     \n",
            "==================================================================================================\n",
            "input_14 (InputLayer)           (None, 512, 512, 1)  0                                            \n",
            "__________________________________________________________________________________________________\n",
            "conv2d_223 (Conv2D)             (None, 512, 512, 64) 640         input_14[0][0]                   \n",
            "__________________________________________________________________________________________________\n",
            "batch_normalization_211 (BatchN (None, 512, 512, 64) 256         conv2d_223[0][0]                 \n",
            "__________________________________________________________________________________________________\n",
            "activation_223 (Activation)     (None, 512, 512, 64) 0           batch_normalization_211[0][0]    \n",
            "__________________________________________________________________________________________________\n",
            "conv2d_224 (Conv2D)             (None, 512, 512, 64) 36928       activation_223[0][0]             \n",
            "__________________________________________________________________________________________________\n",
            "batch_normalization_212 (BatchN (None, 512, 512, 64) 256         conv2d_224[0][0]                 \n",
            "__________________________________________________________________________________________________\n",
            "activation_224 (Activation)     (None, 512, 512, 64) 0           batch_normalization_212[0][0]    \n",
            "__________________________________________________________________________________________________\n",
            "max_pooling2d_52 (MaxPooling2D) (None, 256, 256, 64) 0           activation_224[0][0]             \n",
            "__________________________________________________________________________________________________\n",
            "conv2d_225 (Conv2D)             (None, 256, 256, 128 73856       max_pooling2d_52[0][0]           \n",
            "__________________________________________________________________________________________________\n",
            "batch_normalization_213 (BatchN (None, 256, 256, 128 512         conv2d_225[0][0]                 \n",
            "__________________________________________________________________________________________________\n",
            "activation_225 (Activation)     (None, 256, 256, 128 0           batch_normalization_213[0][0]    \n",
            "__________________________________________________________________________________________________\n",
            "conv2d_226 (Conv2D)             (None, 256, 256, 128 147584      activation_225[0][0]             \n",
            "__________________________________________________________________________________________________\n",
            "batch_normalization_214 (BatchN (None, 256, 256, 128 512         conv2d_226[0][0]                 \n",
            "__________________________________________________________________________________________________\n",
            "activation_226 (Activation)     (None, 256, 256, 128 0           batch_normalization_214[0][0]    \n",
            "__________________________________________________________________________________________________\n",
            "max_pooling2d_53 (MaxPooling2D) (None, 128, 128, 128 0           activation_226[0][0]             \n",
            "__________________________________________________________________________________________________\n",
            "conv2d_227 (Conv2D)             (None, 128, 128, 256 295168      max_pooling2d_53[0][0]           \n",
            "__________________________________________________________________________________________________\n",
            "batch_normalization_215 (BatchN (None, 128, 128, 256 1024        conv2d_227[0][0]                 \n",
            "__________________________________________________________________________________________________\n",
            "activation_227 (Activation)     (None, 128, 128, 256 0           batch_normalization_215[0][0]    \n",
            "__________________________________________________________________________________________________\n",
            "conv2d_228 (Conv2D)             (None, 128, 128, 256 590080      activation_227[0][0]             \n",
            "__________________________________________________________________________________________________\n",
            "batch_normalization_216 (BatchN (None, 128, 128, 256 1024        conv2d_228[0][0]                 \n",
            "__________________________________________________________________________________________________\n",
            "activation_228 (Activation)     (None, 128, 128, 256 0           batch_normalization_216[0][0]    \n",
            "__________________________________________________________________________________________________\n",
            "max_pooling2d_54 (MaxPooling2D) (None, 64, 64, 256)  0           activation_228[0][0]             \n",
            "__________________________________________________________________________________________________\n",
            "conv2d_229 (Conv2D)             (None, 64, 64, 512)  1180160     max_pooling2d_54[0][0]           \n",
            "__________________________________________________________________________________________________\n",
            "batch_normalization_217 (BatchN (None, 64, 64, 512)  2048        conv2d_229[0][0]                 \n",
            "__________________________________________________________________________________________________\n",
            "activation_229 (Activation)     (None, 64, 64, 512)  0           batch_normalization_217[0][0]    \n",
            "__________________________________________________________________________________________________\n",
            "conv2d_230 (Conv2D)             (None, 64, 64, 512)  2359808     activation_229[0][0]             \n",
            "__________________________________________________________________________________________________\n",
            "batch_normalization_218 (BatchN (None, 64, 64, 512)  2048        conv2d_230[0][0]                 \n",
            "__________________________________________________________________________________________________\n",
            "activation_230 (Activation)     (None, 64, 64, 512)  0           batch_normalization_218[0][0]    \n",
            "__________________________________________________________________________________________________\n",
            "max_pooling2d_55 (MaxPooling2D) (None, 32, 32, 512)  0           activation_230[0][0]             \n",
            "__________________________________________________________________________________________________\n",
            "conv2d_231 (Conv2D)             (None, 32, 32, 1024) 4719616     max_pooling2d_55[0][0]           \n",
            "__________________________________________________________________________________________________\n",
            "batch_normalization_219 (BatchN (None, 32, 32, 1024) 4096        conv2d_231[0][0]                 \n",
            "__________________________________________________________________________________________________\n",
            "activation_231 (Activation)     (None, 32, 32, 1024) 0           batch_normalization_219[0][0]    \n",
            "__________________________________________________________________________________________________\n",
            "conv2d_232 (Conv2D)             (None, 32, 32, 1024) 9438208     activation_231[0][0]             \n",
            "__________________________________________________________________________________________________\n",
            "batch_normalization_220 (BatchN (None, 32, 32, 1024) 4096        conv2d_232[0][0]                 \n",
            "__________________________________________________________________________________________________\n",
            "activation_232 (Activation)     (None, 32, 32, 1024) 0           batch_normalization_220[0][0]    \n",
            "__________________________________________________________________________________________________\n",
            "conv2d_transpose_42 (Conv2DTran (None, 64, 64, 512)  2097664     activation_232[0][0]             \n",
            "__________________________________________________________________________________________________\n",
            "concatenate_41 (Concatenate)    (None, 64, 64, 1024) 0           activation_230[0][0]             \n",
            "                                                                 conv2d_transpose_42[0][0]        \n",
            "__________________________________________________________________________________________________\n",
            "conv2d_233 (Conv2D)             (None, 64, 64, 512)  4719104     concatenate_41[0][0]             \n",
            "__________________________________________________________________________________________________\n",
            "batch_normalization_221 (BatchN (None, 64, 64, 512)  2048        conv2d_233[0][0]                 \n",
            "__________________________________________________________________________________________________\n",
            "activation_233 (Activation)     (None, 64, 64, 512)  0           batch_normalization_221[0][0]    \n",
            "__________________________________________________________________________________________________\n",
            "conv2d_234 (Conv2D)             (None, 64, 64, 512)  2359808     activation_233[0][0]             \n",
            "__________________________________________________________________________________________________\n",
            "batch_normalization_222 (BatchN (None, 64, 64, 512)  2048        conv2d_234[0][0]                 \n",
            "__________________________________________________________________________________________________\n",
            "activation_234 (Activation)     (None, 64, 64, 512)  0           batch_normalization_222[0][0]    \n",
            "__________________________________________________________________________________________________\n",
            "conv2d_transpose_43 (Conv2DTran (None, 128, 128, 256 524544      activation_234[0][0]             \n",
            "__________________________________________________________________________________________________\n",
            "concatenate_42 (Concatenate)    (None, 128, 128, 512 0           activation_228[0][0]             \n",
            "                                                                 conv2d_transpose_43[0][0]        \n",
            "__________________________________________________________________________________________________\n",
            "conv2d_235 (Conv2D)             (None, 128, 128, 256 1179904     concatenate_42[0][0]             \n",
            "__________________________________________________________________________________________________\n",
            "batch_normalization_223 (BatchN (None, 128, 128, 256 1024        conv2d_235[0][0]                 \n",
            "__________________________________________________________________________________________________\n",
            "activation_235 (Activation)     (None, 128, 128, 256 0           batch_normalization_223[0][0]    \n",
            "__________________________________________________________________________________________________\n",
            "conv2d_236 (Conv2D)             (None, 128, 128, 256 590080      activation_235[0][0]             \n",
            "__________________________________________________________________________________________________\n",
            "batch_normalization_224 (BatchN (None, 128, 128, 256 1024        conv2d_236[0][0]                 \n",
            "__________________________________________________________________________________________________\n",
            "activation_236 (Activation)     (None, 128, 128, 256 0           batch_normalization_224[0][0]    \n",
            "__________________________________________________________________________________________________\n",
            "conv2d_transpose_44 (Conv2DTran (None, 256, 256, 128 131200      activation_236[0][0]             \n",
            "__________________________________________________________________________________________________\n",
            "concatenate_43 (Concatenate)    (None, 256, 256, 256 0           activation_226[0][0]             \n",
            "                                                                 conv2d_transpose_44[0][0]        \n",
            "__________________________________________________________________________________________________\n",
            "conv2d_237 (Conv2D)             (None, 256, 256, 128 295040      concatenate_43[0][0]             \n",
            "__________________________________________________________________________________________________\n",
            "batch_normalization_225 (BatchN (None, 256, 256, 128 512         conv2d_237[0][0]                 \n",
            "__________________________________________________________________________________________________\n",
            "activation_237 (Activation)     (None, 256, 256, 128 0           batch_normalization_225[0][0]    \n",
            "__________________________________________________________________________________________________\n",
            "conv2d_238 (Conv2D)             (None, 256, 256, 128 147584      activation_237[0][0]             \n",
            "__________________________________________________________________________________________________\n",
            "batch_normalization_226 (BatchN (None, 256, 256, 128 512         conv2d_238[0][0]                 \n",
            "__________________________________________________________________________________________________\n",
            "activation_238 (Activation)     (None, 256, 256, 128 0           batch_normalization_226[0][0]    \n",
            "__________________________________________________________________________________________________\n",
            "conv2d_transpose_45 (Conv2DTran (None, 512, 512, 64) 32832       activation_238[0][0]             \n",
            "__________________________________________________________________________________________________\n",
            "concatenate_44 (Concatenate)    (None, 512, 512, 128 0           activation_224[0][0]             \n",
            "                                                                 conv2d_transpose_45[0][0]        \n",
            "__________________________________________________________________________________________________\n",
            "conv2d_239 (Conv2D)             (None, 512, 512, 64) 73792       concatenate_44[0][0]             \n",
            "__________________________________________________________________________________________________\n",
            "batch_normalization_227 (BatchN (None, 512, 512, 64) 256         conv2d_239[0][0]                 \n",
            "__________________________________________________________________________________________________\n",
            "activation_239 (Activation)     (None, 512, 512, 64) 0           batch_normalization_227[0][0]    \n",
            "__________________________________________________________________________________________________\n",
            "conv2d_240 (Conv2D)             (None, 512, 512, 64) 36928       activation_239[0][0]             \n",
            "__________________________________________________________________________________________________\n",
            "batch_normalization_228 (BatchN (None, 512, 512, 64) 256         conv2d_240[0][0]                 \n",
            "__________________________________________________________________________________________________\n",
            "activation_240 (Activation)     (None, 512, 512, 64) 0           batch_normalization_228[0][0]    \n",
            "__________________________________________________________________________________________________\n",
            "conv2d_241 (Conv2D)             (None, 512, 512, 1)  65          activation_240[0][0]             \n",
            "__________________________________________________________________________________________________\n",
            "activation_241 (Activation)     (None, 512, 512, 1)  0           conv2d_241[0][0]                 \n",
            "==================================================================================================\n",
            "Total params: 31,054,145\n",
            "Trainable params: 31,042,369\n",
            "Non-trainable params: 11,776\n",
            "__________________________________________________________________________________________________\n"
          ],
          "name": "stdout"
        }
      ]
    },
    {
      "cell_type": "code",
      "metadata": {
        "id": "_vB_klA6kajn",
        "colab_type": "code",
        "colab": {}
      },
      "source": [
        "history = model.fit_generator(train_gen, epochs=10, steps_per_epoch=img_gen.samples//2)"
      ],
      "execution_count": 0,
      "outputs": []
    },
    {
      "cell_type": "code",
      "metadata": {
        "id": "PRW8xRmwnb5y",
        "colab_type": "code",
        "colab": {}
      },
      "source": [
        "def iou_loss_core(y_true, y_pred, smooth=1):\n",
        "    intersection = K.sum(K.abs(y_true * y_pred), axis=-1)\n",
        "    union = K.sum(y_true,-1) + K.sum(y_pred,-1) - intersection\n",
        "    iou = (intersection + smooth) / ( union + smooth)\n",
        "    return iou"
      ],
      "execution_count": 0,
      "outputs": []
    },
    {
      "cell_type": "code",
      "metadata": {
        "id": "dbP7h0Zp9Dq-",
        "colab_type": "code",
        "colab": {}
      },
      "source": [
        "model.save('./drive/My Drive/BTS_v2.h5')"
      ],
      "execution_count": 0,
      "outputs": []
    },
    {
      "cell_type": "code",
      "metadata": {
        "id": "Rk7fTFurN-oh",
        "colab_type": "code",
        "colab": {}
      },
      "source": [
        "import cv2\n",
        "img = cv2.imread('segmentation_dataset/tumorImage/tumor/300.png', 0)\n",
        "import matplotlib.pyplot as plt\n",
        "plt.imshow(img, cmap='gray')"
      ],
      "execution_count": 0,
      "outputs": []
    },
    {
      "cell_type": "code",
      "metadata": {
        "id": "83dHXWsEO90Q",
        "colab_type": "code",
        "colab": {}
      },
      "source": [
        "import numpy as np\n",
        "img = img.reshape(1, img.shape[1], img.shape[0], 1)"
      ],
      "execution_count": 0,
      "outputs": []
    },
    {
      "cell_type": "code",
      "metadata": {
        "id": "Ng1r1aRnPGhd",
        "colab_type": "code",
        "colab": {}
      },
      "source": [
        "y_pred = model.predict(img)"
      ],
      "execution_count": 0,
      "outputs": []
    },
    {
      "cell_type": "code",
      "metadata": {
        "id": "n7q35hu2PdMt",
        "colab_type": "code",
        "colab": {}
      },
      "source": [
        "y_pred.shape"
      ],
      "execution_count": 0,
      "outputs": []
    },
    {
      "cell_type": "code",
      "metadata": {
        "id": "kDCTcgjaR5kH",
        "colab_type": "code",
        "colab": {}
      },
      "source": [
        "y = y_pred.reshape(512, 512)"
      ],
      "execution_count": 0,
      "outputs": []
    },
    {
      "cell_type": "code",
      "metadata": {
        "id": "NL03AHGASIS5",
        "colab_type": "code",
        "colab": {}
      },
      "source": [
        "plt.imshow(y, cmap='gray')"
      ],
      "execution_count": 0,
      "outputs": []
    },
    {
      "cell_type": "code",
      "metadata": {
        "id": "gZIe9oseSNJW",
        "colab_type": "code",
        "colab": {}
      },
      "source": [
        ""
      ],
      "execution_count": 0,
      "outputs": []
    }
  ]
}